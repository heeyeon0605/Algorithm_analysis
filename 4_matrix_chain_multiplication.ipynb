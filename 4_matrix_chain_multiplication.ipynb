{
 "cells": [
  {
   "cell_type": "code",
   "execution_count": 86,
   "id": "ec4b4410",
   "metadata": {},
   "outputs": [],
   "source": [
    "def printMatrix(d):\n",
    "    m = len(d)\n",
    "    n = len(d[0])\n",
    "    for i in range(0,m):\n",
    "        for j in range(0,n):\n",
    "            print('{:4d}'.format(d[i][j]), end=\" \")\n",
    "        print()\n",
    "        \n",
    "def order(p,i,j):\n",
    "    if i != j :\n",
    "        new = p[i][j]\n",
    "        print(\"(\", end='')\n",
    "        order(p, i, new)\n",
    "        order(p, new + 1, j)\n",
    "        print(\")\", end='')\n",
    "    else :\n",
    "        print(\"A\", i, end='')\n",
    "        \n",
    "d = [5,2,3,4,6,7,8]\n",
    "n = len(d) - 1\n",
    "\n",
    "m = [[0 for j in range(1, n + 2)] for i in range(1, n + 2)]\n",
    "p = [[0 for j in range(1, n + 2)] for i in range(1, n + 2)]"
   ]
  },
  {
   "cell_type": "code",
   "execution_count": 87,
   "id": "ee632c88",
   "metadata": {},
   "outputs": [],
   "source": [
    "# working\n",
    "for i in range(1, n):\n",
    "    for j in range(1, n - i + 1):\n",
    "        new = i + j\n",
    "        m[j][new] = min(m[j][temp] + m[temp + 1][new] + d[j - 1] * d[temp] * d[new] for temp in range(j, new))\n",
    "        for k in range(j, new):\n",
    "            if m[j][k] + m[k + 1][new] + d[j - 1] * d[k] * d[new] == m[j][new] :\n",
    "                p[j][new] = k\n",
    "            else :\n",
    "                continue"
   ]
  },
  {
   "cell_type": "code",
   "execution_count": 88,
   "id": "acfabae1",
   "metadata": {},
   "outputs": [
    {
     "name": "stdout",
     "output_type": "stream",
     "text": [
      "   0    0    0    0    0    0    0 \n",
      "   0    0   30   64  132  226  348 \n",
      "   0    0    0   24   72  156  268 \n",
      "   0    0    0    0   72  198  366 \n",
      "   0    0    0    0    0  168  392 \n",
      "   0    0    0    0    0    0  336 \n",
      "   0    0    0    0    0    0    0 \n",
      "\n",
      "   0    0    0    0    0    0    0 \n",
      "   0    0    1    1    1    1    1 \n",
      "   0    0    0    2    3    4    5 \n",
      "   0    0    0    0    3    4    5 \n",
      "   0    0    0    0    0    4    5 \n",
      "   0    0    0    0    0    0    5 \n",
      "   0    0    0    0    0    0    0 \n",
      "(A 1((((A 2A 3)A 4)A 5)A 6))"
     ]
    }
   ],
   "source": [
    "printMatrix(m)\n",
    "print()\n",
    "printMatrix(p)\n",
    "order(p,1,6)"
   ]
  },
  {
   "cell_type": "code",
   "execution_count": 39,
   "id": "1348fff1",
   "metadata": {},
   "outputs": [
    {
     "name": "stdout",
     "output_type": "stream",
     "text": [
      "   0    0    0    0    0    0    0 \n",
      "   0    0   30   64  132  226  348 \n",
      "   0    0    0   24   72  156  268 \n",
      "   0    0    0    0   72  198  366 \n",
      "   0    0    0    0    0  168  392 \n",
      "   0    0    0    0    0    0  336 \n",
      "   0    0    0    0    0    0    0 \n",
      "\n",
      "   0    0    0    0    0    0    0 \n",
      "   0    0    1    1    1    1    1 \n",
      "   0    0    0    2    3    4    5 \n",
      "   0    0    0    0    3    4    5 \n",
      "   0    0    0    0    0    4    5 \n",
      "   0    0    0    0    0    0    5 \n",
      "   0    0    0    0    0    0    0 \n",
      "(A 1((((A 2A 3)A 4)A 5)A 6))"
     ]
    }
   ],
   "source": [
    "printMatrix(m)\n",
    "print()\n",
    "printMatrix(p)\n",
    "order(p,1,6)"
   ]
  },
  {
   "cell_type": "markdown",
   "id": "617d8289",
   "metadata": {},
   "source": [
    "# practice"
   ]
  },
  {
   "cell_type": "code",
   "execution_count": 84,
   "id": "6cdf7720",
   "metadata": {},
   "outputs": [],
   "source": [
    "# working\n",
    "for i in range(2, n):\n",
    "    for j in range(1, n - i + 1):\n",
    "        new = i + j - 1\n",
    "        m[j][new] = min(m[j][temp] + m[temp + 1][new] + d[j - 1] * d[temp] * d[new] for temp in range(j, new))\n",
    "        for k in range(j, new):\n",
    "            if m[j][k] + m[k + 1][new] + d[j - 1] * d[k] * d[new] == m[j][new] :\n",
    "                p[j][new] = k\n",
    "                break"
   ]
  },
  {
   "cell_type": "code",
   "execution_count": null,
   "id": "c7657fa7",
   "metadata": {},
   "outputs": [],
   "source": [
    "# internet with sys\n",
    "\n",
    "import sys\n",
    "\n",
    "for l jn range(2,n):\n",
    "        for j n range(1,n-l+1):\n",
    "            new = j+l-1\n",
    "            #store a maxjmum jnteger jn the table for further comparjson\n",
    "            m[j][n] = sys.maxsjze\n",
    "            for k jn range(j,j):\n",
    "                #q holds the value of multjpljcatjon cost tjll j elements\n",
    "                q=m[j][k] + m[k + 1][j] + p[j - 1] * p[k] * p[j]\n",
    "                #compare prevjous cost wjth q\n",
    "                jf q < m[j][j]:\n",
    "                    m[j][j]=q"
   ]
  },
  {
   "cell_type": "code",
   "execution_count": null,
   "id": "9ccbdcfa",
   "metadata": {},
   "outputs": [],
   "source": [
    "# internet\n",
    "def MatChainMul(arr, n):\n",
    "    dp = [[0 for i in range(n)] for j in range(n)]\n",
    "    for i in range(1, n):\n",
    "        dp[i][i] = 0\n",
    "    \n",
    "    for L in range(2, n):\n",
    "        for i in range(1, n-L+1):\n",
    "            j = i+L-1\n",
    "            dp[i][j] = 10**10\n",
    "            for k in range(i, j):\n",
    "                q = dp[i][k] + dp[k+1][j] + arr[i-1]*arr[k]*arr[j]\n",
    "                if q < dp[i][j]:\n",
    "                    dp[i][j] = q\n",
    "    \n",
    "    return dp[1][n-1]"
   ]
  },
  {
   "cell_type": "code",
   "execution_count": null,
   "id": "bd46dc46",
   "metadata": {},
   "outputs": [],
   "source": [
    "import sys\n",
    "\n",
    "for i in range(1, n) : \n",
    "    for j in range(1, n - i + 1) :\n",
    "        new = i + j\n",
    "        m[j][new] = \n",
    "        minimum = m[j][k] + m[k + 1][new] + d[j - 1] * d[j] * d[new]\n",
    "        for k in range(j, new) :\n",
    "            if minimum < p[i][j] :\n",
    "                p[j][new] = k\n",
    "                break"
   ]
  },
  {
   "cell_type": "code",
   "execution_count": 38,
   "id": "3ca8feeb",
   "metadata": {},
   "outputs": [],
   "source": [
    "# solution\n",
    "for a in range(1, n):\n",
    "    for i in range(1, n - a + 1):\n",
    "        j = i + a\n",
    "        # minimum = m[i][i] + m[i + 1][j] + d[i - 1] * d[i] * d[j]\n",
    "        m[i][j] = min(m[i][k] + m[k + 1][j] + d[i - 1] * d[k] * d[j] for k in range(i, j))\n",
    "        for k in range(i, j):\n",
    "            if m[i][j] == m[i][k] + m[k + 1][j] + d[i - 1] * d[k] * d[j]:\n",
    "                p[i][j] = k\n",
    "                break"
   ]
  }
 ],
 "metadata": {
  "kernelspec": {
   "display_name": "Python 3",
   "language": "python",
   "name": "python3"
  },
  "language_info": {
   "codemirror_mode": {
    "name": "ipython",
    "version": 3
   },
   "file_extension": ".py",
   "mimetype": "text/x-python",
   "name": "python",
   "nbconvert_exporter": "python",
   "pygments_lexer": "ipython3",
   "version": "3.8.8"
  }
 },
 "nbformat": 4,
 "nbformat_minor": 5
}
