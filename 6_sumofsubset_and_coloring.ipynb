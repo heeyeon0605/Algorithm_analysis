{
 "cells": [
  {
   "cell_type": "markdown",
   "id": "03378613",
   "metadata": {},
   "source": [
    "# sum of subset"
   ]
  },
  {
   "cell_type": "code",
   "execution_count": 15,
   "id": "a0f446c5",
   "metadata": {},
   "outputs": [
    {
     "name": "stdout",
     "output_type": "stream",
     "text": [
      "items = [1, 2, 3, 4, 5, 6] W =  11\n",
      "sol [1, 1, 1, 0, 1, 0]\n",
      "sol [1, 0, 0, 1, 0, 1]\n",
      "sol [0, 1, 1, 0, 0, 1]\n",
      "sol [0, 1, 0, 1, 1, 0]\n",
      "sol [0, 0, 0, 0, 1, 1]\n"
     ]
    }
   ],
   "source": [
    "def promising(i, weight, total) :\n",
    "    return ((weight + total >= W) and (weight == W or weight + S[i + 1] <= W))\n",
    "            \n",
    "def s_s(i, weight, total, include) :\n",
    "    if (promising(i, weight, total)) :\n",
    "        if weight == W : \n",
    "            print(\"sol\", [include[j] for j in range(n)]) # check\n",
    "        \n",
    "        else :\n",
    "            include[i + 1] = 1\n",
    "            s_s(i + 1, weight + S[i + 1], total - S[i + 1], include)\n",
    "            \n",
    "            include[i + 1] = 0\n",
    "            s_s(i + 1, weight, total - S[i + 1], include)\n",
    "n = 6\n",
    "S = [1, 2, 3, 4, 5, 6]\n",
    "W = 11\n",
    "print(\"items =\", S, \"W = \", W)\n",
    "include = n * [0]\n",
    "total = 0\n",
    "for k in S :\n",
    "    total += k\n",
    "s_s(-1, 0, total, include)"
   ]
  },
  {
   "cell_type": "code",
   "execution_count": 7,
   "id": "14477f69",
   "metadata": {},
   "outputs": [
    {
     "name": "stdout",
     "output_type": "stream",
     "text": [
      "items = [1, 2, 3, 4, 5, 6] W = 9\n",
      "sol [1, 1, 0, 0, 0, 1]\n",
      "sol [1, 0, 1, 0, 1, 0]\n",
      "sol [0, 1, 1, 1, 0, 0]\n",
      "sol [0, 0, 1, 0, 0, 1]\n",
      "sol [0, 0, 0, 1, 1, 0]\n"
     ]
    }
   ],
   "source": [
    "def promising(i, weight, total):\n",
    "    return (weight + total >= W) and (weight == W or weight + w[i + 1] <= W)\n",
    "\n",
    "\n",
    "def s_s(i, weight, total, include):\n",
    "    if promising(i, weight, total):\n",
    "        if weight == W:\n",
    "            print(\"sol\", [include[j] for j in range(n)])\n",
    "        else:\n",
    "            include[i + 1] = 1\n",
    "            s_s(i + 1, weight + w[i + 1], total - w[i + 1], include)\n",
    "            include[i + 1] = 0\n",
    "            s_s(i + 1, weight, total - w[i + 1], include)\n",
    "\n",
    "\n",
    "n = 6\n",
    "w = [1, 2, 3, 4, 5, 6]\n",
    "\n",
    "W = 9\n",
    "\n",
    "print(\"items =\", w, \"W =\", W)\n",
    "include = n * [0]\n",
    "total = 0\n",
    "for k in w:\n",
    "    total += k\n",
    "s_s(-1, 0, total, include)"
   ]
  },
  {
   "cell_type": "code",
   "execution_count": 4,
   "id": "28bfebe2",
   "metadata": {},
   "outputs": [
    {
     "name": "stdout",
     "output_type": "stream",
     "text": [
      "(1)\n",
      "items =  [1, 2, 3, 4, 5, 6]\n",
      "W =  9\n",
      "sol [1, 1, 0, 0, 0, 1]\n",
      "sol [1, 0, 1, 0, 1, 0]\n",
      "sol [0, 1, 1, 1, 0, 0]\n",
      "sol [0, 0, 1, 0, 0, 1]\n",
      "sol [0, 0, 0, 1, 1, 0]\n",
      " \n"
     ]
    }
   ],
   "source": [
    "# Sum of subsets\n",
    "def promising(i, weight, total):\n",
    "    return (weight+total >= W) and (weight == W or weight+S[i+1] <= W)\n",
    "\n",
    "def s_s(i, weight, total, include):\n",
    "    if promising(i, weight, total) == True:\n",
    "        if weight == W:\n",
    "            print (\"sol\", include)\n",
    "        else:\n",
    "            include[i+1] = 1\n",
    "            s_s(i+1, weight+S[i+1], total-S[i+1], include) # Include S[i+1]\n",
    "            include[i+1] = 0\n",
    "            s_s(i+1, weight, total-S[i+1], include) # Exclude S[i+1]\n",
    "\n",
    "n = 6\n",
    "S = [1, 2, 3, 4, 5, 6] # Set list as 'S'.\n",
    "S.sort()\n",
    "W = 9\n",
    "print(\"(1)\")\n",
    "print(\"items = \", S)\n",
    "print(\"W = \", W)\n",
    "include = n * [0]\n",
    "total = 0\n",
    "for k in S:\n",
    "    total += k\n",
    "s_s(-1, 0, total, include)\n",
    "print(\" \")"
   ]
  },
  {
   "cell_type": "code",
   "execution_count": 8,
   "id": "8e2eff47",
   "metadata": {},
   "outputs": [
    {
     "name": "stdout",
     "output_type": "stream",
     "text": [
      "--------------- sum of subsets ---------------\n",
      "items= [1, 2, 3, 4, 5, 6] W= 9\n",
      "sol [1, 1, 0, 0, 0, 1]\n",
      "sol [1, 0, 1, 0, 1, 0]\n",
      "sol [0, 1, 1, 1, 0, 0]\n",
      "sol [0, 0, 1, 0, 0, 1]\n",
      "sol [0, 0, 0, 1, 1, 0]\n"
     ]
    }
   ],
   "source": [
    "def promising(i,weight,total):\n",
    "    return ((weight+total >= W) and (weight==W or weight+S[i+1]<=W))\n",
    "\n",
    "def s_s(i,weight,total,include):\n",
    "    if(promising(i,weight,total)==True):\n",
    "        if(weight == W):\n",
    "            print(\"sol\",include)\n",
    "        else:\n",
    "            include[i+1]=1\n",
    "            s_s(i+1,weight+S[i+1],total-S[i+1],include)\n",
    "            include[i+1]=0\n",
    "            s_s(i+1,weight,total-S[i+1],include)\n",
    "\n",
    "n=6\n",
    "S=[1,2,3,4,5,6]\n",
    "W=9\n",
    "print(\"---\"*5,\"sum of subsets\",\"---\"*5)\n",
    "print(\"items=\",S,\"W=\",W)\n",
    "include = n*[0]\n",
    "total=0\n",
    "for i in S:\n",
    "    total+=i\n",
    "\n",
    "s_s(-1,0,total,include)"
   ]
  },
  {
   "cell_type": "markdown",
   "id": "b2d6d5c0",
   "metadata": {},
   "source": [
    "# coloring"
   ]
  },
  {
   "cell_type": "code",
   "execution_count": 20,
   "id": "2ffa6b92",
   "metadata": {},
   "outputs": [
    {
     "name": "stdout",
     "output_type": "stream",
     "text": [
      "[1, 2, 3, 2]\n",
      "[1, 3, 2, 3]\n",
      "[2, 1, 3, 1]\n",
      "[2, 3, 1, 3]\n",
      "[3, 1, 2, 1]\n",
      "[3, 2, 1, 2]\n"
     ]
    }
   ],
   "source": [
    "def color(i, vcolor) :\n",
    "    if (promising(i, vcolor)) :\n",
    "        if i == n - 1 :\n",
    "            print([vcolor[j] for j in range(n)])\n",
    "    \n",
    "        else :\n",
    "            for k in range(1, m + 1) :\n",
    "                vcolor[i + 1] = k\n",
    "                color(i + 1, vcolor)\n",
    "            \n",
    "def promising(i, vcolor) :\n",
    "    switch = True\n",
    "    j = 0\n",
    "    \n",
    "    while j < i and switch :\n",
    "        if (W[i][j] and vcolor[i] == vcolor[j]) :\n",
    "            switch = False\n",
    "        j += 1\n",
    "            \n",
    "    return switch\n",
    "\n",
    "n = 4\n",
    "W = [[0, 1, 1, 1], [1, 0, 1, 0], [1, 1, 0, 1], [1, 0, 1, 0]]\n",
    "vcolor = n * [0]\n",
    "m = 3\n",
    "color(-1, vcolor)"
   ]
  },
  {
   "cell_type": "code",
   "execution_count": 16,
   "id": "48990f96",
   "metadata": {},
   "outputs": [
    {
     "name": "stdout",
     "output_type": "stream",
     "text": [
      "(2)\n",
      "[1, 2, 3, 2]\n",
      "[1, 3, 2, 3]\n",
      "[2, 1, 3, 1]\n",
      "[2, 3, 1, 3]\n",
      "[3, 1, 2, 1]\n",
      "[3, 2, 1, 2]\n"
     ]
    }
   ],
   "source": [
    "def color(i, vcolor):\n",
    "    if promising(i, vcolor) == True:\n",
    "        if i == n-1: # The last index is 'n-1'.\n",
    "            print(vcolor)\n",
    "        else:\n",
    "            for coloring in range(1, m+1):\n",
    "                vcolor[i+1] = coloring\n",
    "                color(i+1, vcolor)\n",
    "\n",
    "def promising(i, vcolor):\n",
    "    switch = True\n",
    "    j = 0 # The first index is 0. So j indicates the first element.\n",
    "    while j < i and switch:\n",
    "        if W[i][j] and vcolor[i] == vcolor[j]: # 'W[i][j]' checks whether the nodes are connected each other and 'vcolor[i] == vcolor[j]' means whether the adjacent node has same color.\n",
    "            switch = False\n",
    "        j += 1\n",
    "    return switch\n",
    "n = 4\n",
    "W = [[0, 1, 1, 1], [1, 0, 1, 0], [1, 1, 0, 1], [1, 0, 1, 0]]\n",
    "vcolor = n * [0]\n",
    "m = 3\n",
    "print(\"(2)\")\n",
    "color(-1, vcolor)"
   ]
  },
  {
   "cell_type": "code",
   "execution_count": 17,
   "id": "4ed74d16",
   "metadata": {},
   "outputs": [
    {
     "name": "stdout",
     "output_type": "stream",
     "text": [
      "\n",
      "--------------- m-coloring ---------------\n"
     ]
    }
   ],
   "source": [
    "def color(i,vcolor):\n",
    "    if(promising(i,vcolor)):\n",
    "        if(i==n-1):\n",
    "            print(vcolor)\n",
    "        else:\n",
    "            for j in range(1,m+1):\n",
    "                vcolor[i+1]=j\n",
    "                color(i+1,vcolor)\n",
    "\n",
    "def promising(i,vcolor):\n",
    "    Init=True\n",
    "    j=0\n",
    "    while(j<i and Init):\n",
    "        if(W[i][j] and vcolor[i]==vcolor[j]):\n",
    "            Init=False\n",
    "        j=j+1\n",
    "    return Init\n",
    "\n",
    "print()\n",
    "print(\"---\"*5,\"m-coloring\",\"---\"*5)"
   ]
  },
  {
   "cell_type": "code",
   "execution_count": 18,
   "id": "0d71f409",
   "metadata": {},
   "outputs": [
    {
     "name": "stdout",
     "output_type": "stream",
     "text": [
      "[1, 2, 3, 2]\n",
      "[1, 3, 2, 3]\n",
      "[2, 1, 3, 1]\n",
      "[2, 3, 1, 3]\n",
      "[3, 1, 2, 1]\n",
      "[3, 2, 1, 2]\n"
     ]
    }
   ],
   "source": [
    "def color(i, vcolor):\n",
    "    if promising(i, vcolor):\n",
    "        if i == n - 1:\n",
    "            print([vcolor[j] for j in range(n)])\n",
    "        else:\n",
    "            for j in range(1, m + 1):\n",
    "                vcolor[i + 1] = j\n",
    "                color(i + 1, vcolor)\n",
    "\n",
    "\n",
    "def promising(i, vcolor):\n",
    "    switch = True\n",
    "    j = 0\n",
    "    while j < i and switch:\n",
    "        if W[i][j] and vcolor[i] == vcolor[j]:\n",
    "            switch = False\n",
    "        j += 1\n",
    "    return switch\n",
    "\n",
    "\n",
    "n = 4\n",
    "W = [[0, 1, 1, 1], [1, 0, 1, 0], [1, 1, 0, 1], [1, 0, 1, 0]]\n",
    "vcolor = n * [0]\n",
    "m = 3\n",
    "color(-1, vcolor)"
   ]
  }
 ],
 "metadata": {
  "kernelspec": {
   "display_name": "Python 3",
   "language": "python",
   "name": "python3"
  },
  "language_info": {
   "codemirror_mode": {
    "name": "ipython",
    "version": 3
   },
   "file_extension": ".py",
   "mimetype": "text/x-python",
   "name": "python",
   "nbconvert_exporter": "python",
   "pygments_lexer": "ipython3",
   "version": "3.8.8"
  }
 },
 "nbformat": 4,
 "nbformat_minor": 5
}
