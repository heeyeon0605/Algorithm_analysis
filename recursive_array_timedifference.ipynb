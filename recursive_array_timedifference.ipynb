{
 "cells": [
  {
   "cell_type": "code",
   "execution_count": 1,
   "id": "55c32fed",
   "metadata": {},
   "outputs": [
    {
     "name": "stdout",
     "output_type": "stream",
     "text": [
      "8.090287초 걸렸습니다.\n"
     ]
    }
   ],
   "source": [
    "# time check code\n",
    "\n",
    "import timeit\n",
    " \n",
    "start_time = timeit.default_timer() # 시작 시간 체크\n",
    " \n",
    "sum = 0\n",
    " \n",
    "for i in range(100000000):\n",
    "    sum += i\n",
    "    \n",
    "terminate_time = timeit.default_timer() # 종료 시간 체크  \n",
    " \n",
    "print(\"%f초 걸렸습니다.\" % (terminate_time - start_time))"
   ]
  },
  {
   "cell_type": "markdown",
   "id": "9c657a55",
   "metadata": {},
   "source": [
    "#### 내가 시도하다가 실패한 애들 ...ㅋ.ㅋ.ㅋ....ㅋ.\n",
    "def fun1(n) :\n",
    "\n",
    "    if n==1 or n==2 :\n",
    "        return 1\n",
    "    else :\n",
    "        return 2 * fun1(n - 1) + 2 * fun1(n - 2)\n",
    "    \n",
    "def fun1(n) :\n",
    "    if n==1 or n==2:\n",
    "        return 1\n",
    "    else :\n",
    "        return fun1(n-1) + fun1(n-2) + fun(n-3)\n",
    "    \n",
    "\n",
    "print(fun1(5))"
   ]
  },
  {
   "cell_type": "markdown",
   "id": "d3f95f4a",
   "metadata": {},
   "source": [
    "k=3일때부터 n-1일때까지의 합... 그니까 예시 나와 있는거 그거 전부 합을 구하는 것임."
   ]
  },
  {
   "cell_type": "code",
   "execution_count": 4,
   "id": "5cf7e6d0",
   "metadata": {},
   "outputs": [
    {
     "name": "stdout",
     "output_type": "stream",
     "text": [
      "32\n"
     ]
    }
   ],
   "source": [
    "# 간단한 version (이버전은 연습용)\n",
    "\n",
    "def function_prac(n) :\n",
    "    if n==1 or n==2 :\n",
    "        return 1\n",
    "    else :\n",
    "        return function_prac(n-1)*2\n",
    "    \n",
    "print(function_prac(7))"
   ]
  },
  {
   "cell_type": "markdown",
   "id": "d524bc82",
   "metadata": {},
   "source": [
    "## recursion version"
   ]
  },
  {
   "cell_type": "code",
   "execution_count": 5,
   "id": "ffd7fead",
   "metadata": {},
   "outputs": [
    {
     "name": "stdout",
     "output_type": "stream",
     "text": [
      "32\n"
     ]
    }
   ],
   "source": [
    "def fun1(n):\n",
    "    if n==1 or n==2 :\n",
    "        return 1\n",
    "    else :\n",
    "        sum = 0\n",
    "        for i in range(1, n):\n",
    "            sum += fun1(i)\n",
    "        return sum\n",
    "    \n",
    "print(fun1(7))"
   ]
  },
  {
   "cell_type": "markdown",
   "id": "89acaab4",
   "metadata": {},
   "source": [
    "## recursion version time check"
   ]
  },
  {
   "cell_type": "code",
   "execution_count": 20,
   "id": "dbead76f",
   "metadata": {},
   "outputs": [],
   "source": [
    "import timeit"
   ]
  },
  {
   "cell_type": "code",
   "execution_count": 12,
   "id": "2dd289c8",
   "metadata": {},
   "outputs": [
    {
     "name": "stdout",
     "output_type": "stream",
     "text": [
      "function 1 : recursion 사용\n",
      "n= 24일때, 1.012413초 걸렸습니다.\n",
      "n= 25일때, 2.016594초 걸렸습니다.\n",
      "n= 26일때, 3.985870초 걸렸습니다.\n",
      "n= 27일때, 8.027409초 걸렸습니다.\n",
      "n= 28일때, 15.959452초 걸렸습니다.\n"
     ]
    }
   ],
   "source": [
    "timelist = [24, 25, 26, 27, 28]\n",
    "\n",
    "print(\"function 1 : recursion 사용\")\n",
    "\n",
    "for i in range(len(timelist)):\n",
    "    \n",
    "    start_time = timeit.default_timer() # 시작 시간 체크\n",
    " \n",
    "    fun1(timelist[i])\n",
    "    \n",
    "    terminate_time = timeit.default_timer() # 종료 시간 체크  \n",
    " \n",
    "    print(\"n= %d일때, %f초 걸렸습니다.\" % (timelist[i], (terminate_time - start_time)))"
   ]
  },
  {
   "cell_type": "markdown",
   "id": "fea8574c",
   "metadata": {},
   "source": [
    "## array version"
   ]
  },
  {
   "cell_type": "code",
   "execution_count": 17,
   "id": "2bd5ce7d",
   "metadata": {},
   "outputs": [
    {
     "name": "stdout",
     "output_type": "stream",
     "text": [
      "32\n"
     ]
    }
   ],
   "source": [
    "# 2번째 version\n",
    "\n",
    "a = [1, 1]\n",
    "\n",
    "def fun2(n):\n",
    "    for j in range(n-2):\n",
    "        sum = 0\n",
    "        for i in range(len(a)): \n",
    "            sum += a[i]  \n",
    "        a.append(sum)\n",
    "        \n",
    "    return a[n-1]\n",
    "\n",
    "print(fun2(7))"
   ]
  },
  {
   "cell_type": "code",
   "execution_count": 18,
   "id": "73fb906e",
   "metadata": {},
   "outputs": [
    {
     "name": "stdout",
     "output_type": "stream",
     "text": [
      "32\n"
     ]
    }
   ],
   "source": [
    "# 1번째 version\n",
    "array1 = [1, 1]\n",
    "\n",
    "def get_next(n):\n",
    "    sum = 0\n",
    "    for i in range(n):\n",
    "        sum += array1[i]\n",
    "    array1.append(sum)\n",
    "\n",
    "\n",
    "def func(n):\n",
    "    len_array1 = len(array1)\n",
    "    while len_array1 != n:\n",
    "        get_next(len_array1)\n",
    "        len_array1 += 1\n",
    "    return array1[n - 1]\n",
    "\n",
    "print(func(7))"
   ]
  },
  {
   "cell_type": "markdown",
   "id": "7a6ec11e",
   "metadata": {},
   "source": [
    "## array version time check"
   ]
  },
  {
   "cell_type": "code",
   "execution_count": null,
   "id": "cac13ddf",
   "metadata": {},
   "outputs": [
    {
     "name": "stdout",
     "output_type": "stream",
     "text": [
      "function 2 : array 사용\n",
      "n= 1600일때, 0.140050초 걸렸습니다.\n",
      "n= 3200일때, 1.298259초 걸렸습니다.\n",
      "n= 6400일때, 15.814266초 걸렸습니다.\n",
      "n= 12800일때, 101.809721초 걸렸습니다.\n"
     ]
    }
   ],
   "source": [
    "timelist = [1600, 3200, 6400, 12800, 25600]\n",
    "\n",
    "print(\"function 2 : array 사용\")\n",
    "\n",
    "for i in range(len(timelist)):\n",
    "    \n",
    "    start_time = timeit.default_timer() # 시작 시간 체크\n",
    " \n",
    "    fun2(timelist[i])\n",
    "    \n",
    "    terminate_time = timeit.default_timer() # 종료 시간 체크  \n",
    " \n",
    "    print(\"n= %d일때, %f초 걸렸습니다.\" % (timelist[i], (terminate_time - start_time)))"
   ]
  },
  {
   "cell_type": "code",
   "execution_count": null,
   "id": "07fa171c",
   "metadata": {},
   "outputs": [],
   "source": [
    "224\n",
    "741\n",
    "2388\n",
    "8184\n",
    "12049"
   ]
  },
  {
   "cell_type": "code",
   "execution_count": 4,
   "id": "af491195",
   "metadata": {},
   "outputs": [
    {
     "name": "stdout",
     "output_type": "stream",
     "text": [
      "n= 51200일때, 943.308941초 걸렸습니다.\n"
     ]
    }
   ],
   "source": [
    "start_time = timeit.default_timer() # 시작 시간 체크\n",
    " \n",
    "fun2(51200)\n",
    "    \n",
    "terminate_time = timeit.default_timer() # 종료 시간 체크  \n",
    " \n",
    "print(\"n= %d일때, %f초 걸렸습니다.\" % (51200, (terminate_time - start_time)))"
   ]
  },
  {
   "cell_type": "markdown",
   "id": "f40d39bb",
   "metadata": {},
   "source": [
    "### 2. \n",
    "입력 숫자 n에 대해 알고리즘2의 수행시간을 T1(n), T2(n)이라고 한다. \n",
    "(1)의 표 결과를 관찰하여 T1(n)과 T1(n+1)의 관계, T2(n)와 T2(2n)의 관계를 설명하시오."
   ]
  },
  {
   "cell_type": "markdown",
   "id": "c54975c4",
   "metadata": {},
   "source": [
    "#### T1(n)과 T1(n+1)의 관계 : \n",
    "- 입력 숫자 n에 대해 알고리즘1의 결과 표를 관찰하면, 1, 2, 3.98, 4, 8, 15.95 ... 로 이어지는 것으로 보아 앞 숫자의 2배씩 증가하고 있습니다. 즉, 2의 n승 수 (1, 2, 4, 8, 16 ...)과 비슷한 패턴으로 수행시간이 늘어나는 것을 알 수 있습니다.\n",
    "\n",
    "#### T2(n)과 T2(2n)의 관계 : \n",
    "- 입력 숫자 n에 대해 알고리즘2의 결과 표를 관찰하면, 0.13, 0.39, 2.68, 17.27, 114.28 ... 로 늘어나는 것을 보고 n과 2n의 관계를 분석해보았습니다. 이전 수행시간과 비교해본 결과, 순서대로 3배, 6.85배, 6.44배, 6.616배로 늘고 있다는 것을 알 수 있습니다. 따라서, 처음에만 3배로 늘고, 그 이후에는 지속적으로 이전 수행시간의 6~7배 값으로 증가한다는 것을 알 수 있습니다."
   ]
  },
  {
   "cell_type": "markdown",
   "id": "abd31946",
   "metadata": {},
   "source": [
    "(메모)혹...시 51200 추가하고 싶으면 ㅎ\n",
    "- 입력 숫자 n에 대해 알고리즘2의 결과 표를 관찰하면, 0.13, 0.39, 2.68, 17.27, 114.28, 그리고 추가적으로 n=51200일때 943.308초 ... 로 늘어나는 것을 보고 n과 2n의 관계를 분석해보았습니다. 이전 수행시간과 비교해본 결과, 순서대로 3배, 6.85배, 6.44배, 6.616배, 8.254배로 늘고 있다는 것을 알 수 있습니다. 따라서, 처음에만 3배로 늘고, 그 이후에는 지속적으로 이전 수행시간의 6~7배 값으로 증가한다는 것을 알 수 있습니다."
   ]
  },
  {
   "cell_type": "markdown",
   "id": "8af575ca",
   "metadata": {},
   "source": [
    "## 3. \n",
    "알고리즘2의 시간복잡도를 구하시오, 단위 연산을 덧셈으로 정의한다."
   ]
  },
  {
   "cell_type": "code",
   "execution_count": null,
   "id": "a7b63fb2",
   "metadata": {},
   "outputs": [],
   "source": [
    "def get_next(n):\n",
    "    sum = 0\n",
    "    for i in range(n):\n",
    "        sum += array1[i]\n",
    "    array1.append(sum)\n",
    "\n",
    "\n",
    "def fun2(n):\n",
    "    len_array1 = len(array1)\n",
    "    while len_array1 != n:\n",
    "        get_next(len_array1)\n",
    "        len_array1 += 1\n",
    "    return array1[n - 1]"
   ]
  },
  {
   "cell_type": "code",
   "execution_count": null,
   "id": "e43b3897",
   "metadata": {},
   "outputs": [],
   "source": [
    "# 하나의 함수로 정리한 경우\n",
    "\n",
    "def fun2(n):\n",
    "    len_array1 = len(array1)\n",
    "    while len_array1 != n:\n",
    "        sum = 0\n",
    "        for i in range(n):\n",
    "            sum += array1[i]\n",
    "        array1.append(sum)\n",
    "        len_array1 += 1\n",
    "    return array1[n - 1]"
   ]
  },
  {
   "cell_type": "markdown",
   "id": "efe415bf",
   "metadata": {},
   "source": [
    "### 답 : \n",
    "알고리즘2 코드를 관찰해보면, 먼저, 함수 두 개를 사용하였는데, fun2함수에서 while문 안에 get_next 함수가 실행되고, get_next 함수에서 for문이 사용되었기에 이중반복문에 의하여 c*n*n이 포함되는 것을 알 수 있습니다. 따라서, 알고리즘2의 시간복잡도는 Big-O 표기법으로 O(n^2)인 것을 알 수 있습니다. 여기서, 단위 연산은 반복문에 의하여 덧셈은 더 낮은 차수로 간주되어 큰 값이 더해지더라도 asymptotic behavior에 의해 무시됩니다."
   ]
  },
  {
   "cell_type": "markdown",
   "id": "1cc7b8b7",
   "metadata": {},
   "source": [
    "### 더 구체적인 답 : \n",
    "\n",
    "알고리즘2 코드를 관찰해보면, \n",
    "1. 먼저, 함수 두 개를 사용하였는데, fun2함수에서 while문 안에 get_next 함수가 실행되고, get_next 함수에서 for문이 사용되었기에 이중반복문에 의하여\n",
    "2. 대입 연산은 1, 1, n*n+1과 n+1이 있음을 알 수 있고, \n",
    "3. 덧셈 연산은 n*n과 n이 있음을 알 수 있습니다.\n",
    "\n",
    "따라서, 최종적인 알고리즘2의 시간복잡도는 모든 연산을 합친 2n^2 + 2n + 4입니다.\n",
    "\n",
    "여기서, Big-O 표기법으로 O(n^2)인 것을 알 수 있습니다. 여기서, 단위 연산은 반복문에 의하여 덧셈은 더 낮은 차수로 간주되어 큰 값이 더해지더라도 asymptotic behavior에 의해 무시됩니다."
   ]
  },
  {
   "cell_type": "markdown",
   "id": "156f6be2",
   "metadata": {},
   "source": [
    "## 4. \n",
    "알고리즘1, 알고리즘2를 10분간 수행할 때 해결할 수 있는 문제의 크기 n1, n2를 추정하시오."
   ]
  },
  {
   "cell_type": "markdown",
   "id": "c6a6e716",
   "metadata": {},
   "source": [
    "### n1의 경우 :\n",
    "n의 숫자가 1씩 증가할 때 마다 수행시간이 2의 배수 관계로 늘고 있으므로, 10분(600초)간 수행할 때 해결할 수 있는 크기는 600 이내의 숫자 중 가장 큰 수는 2의 9승인 512입니다.\n",
    "그러므로, 알고리즘1은 10분간 수행할 때 해결할 수 있는 문제 크기는 n1 <= 9 입니다. n이 정수가 아닌 유리수인 경우에는 n1 <= 9.2288입니다.\n",
    "\n",
    "### n2의 경우 :\n",
    "n이 두배씩 늘 때마다 처음 3배를 제외하고 계속 6~7배씩 증가하며 늘고 있으므로, 10분(600초)간 수행할 때 해결할 수 있는 크기는 600 이내의 숫자 중 가장 큰 수는 표를 통해서 수행시간이 943.308초보다 작고 113.28초보다 크므로 25600 < n < 51200 범위 내에 존재한다는 것을 알 수 있습니다. 더 구체적으로, n이 25600보다 51200과 더 가깝고, n2 알고리즘2를 10분간 수행할 때 해결할 수 있는 문제의 크기는 약 n2 <= 40000 입니다.  "
   ]
  },
  {
   "cell_type": "markdown",
   "id": "8e20c655",
   "metadata": {},
   "source": [
    "## 5.\n",
    "n=100일 때의 알고리즘1 수행시간 t1을 year를 단위로 추정하고, n=1,000만일 때의 알고리즘2 수행시간 t2를 추정하시오."
   ]
  },
  {
   "cell_type": "markdown",
   "id": "8c544b96",
   "metadata": {},
   "source": [
    "### t1 :\n",
    "앞서 언급되었듯이 n의 숫자가 1씩 증가할 때 마다 수행시간이 2의 배수 관계로 늘고 있으므로, n=24일때를 수행시간 1초로 기준으로 하여 n=100일 때의 알고리즘1 수행시간은 2^(100-24) = 2^76, 즉, 2의 76승이 됩니다. 2의 77승은 7.5558X10^22으로, 초를 년도로 환산하여 t1의 값을 측정할 것입니다.\n",
    "\n",
    "먼저, 순서대로 초를 분, 시간, 하루, 그리고 1년으로 환산할 것입니다.\n",
    "60*60*24*365 = 31536000 초가 나옵니다. 즉, 1년에 31536000 초가 나옵니다.\n",
    "\n",
    "그래서, 7.5558X10^22 % 31536000 을 계산하면, 약 53405920 년이 나옵니다. 그래서, 약 5340.6만년이 t1이 됩니다. (t1=53405920.3413)\n",
    "\n",
    "### t2 :\n",
    "n = 10000000 일 때의 알고리즘2 수행시간 t2를 측정해볼 것 입니다.\n",
    "먼저, n이 3200일 때의 수행시간 0.3910을 기준으로 n이 두배가 될 때마다 평균 6.6배의 수행시간이 증가하므로 10000000와 가장 가까운 2n인 13107200의 수행시간은 0.391*6.6^12 = 2671185102, 즉 약 26억 초가 t2가 됩니다. (t2=2671185102)"
   ]
  },
  {
   "cell_type": "code",
   "execution_count": null,
   "id": "87c10c29",
   "metadata": {},
   "outputs": [
    {
     "name": "stdout",
     "output_type": "stream",
     "text": [
      "function 2 : array 사용\n"
     ]
    }
   ],
   "source": [
    "timelist = [1600, 3200, 6400, 12800, 25600]\n",
    "\n",
    "print(\"function 2 : array 사용\")\n",
    "\n",
    "for i in range(len(timelist)):\n",
    "    \n",
    "    start_time = timeit.default_timer() # 시작 시간 체크\n",
    " \n",
    "    fun2(timelist[i])\n",
    "    \n",
    "    terminate_time = timeit.default_timer() # 종료 시간 체크  \n",
    " \n",
    "    print(\"n= %d일때, %f초 걸렸습니다.\" % (timelist[i], (terminate_time - start_time)))"
   ]
  },
  {
   "cell_type": "code",
   "execution_count": 9,
   "id": "100c299d",
   "metadata": {},
   "outputs": [
    {
     "name": "stdout",
     "output_type": "stream",
     "text": [
      "n= 35000일때, 210.035247초 걸렸습니다.\n"
     ]
    }
   ],
   "source": [
    "start_time = timeit.default_timer() # 시작 시간 체크\n",
    " \n",
    "fun2(35000)\n",
    "    \n",
    "terminate_time = timeit.default_timer() # 종료 시간 체크  \n",
    " \n",
    "print(\"n= %d일때, %f초 걸렸습니다.\" % (35000, (terminate_time - start_time)))"
   ]
  },
  {
   "cell_type": "code",
   "execution_count": 4,
   "id": "b772b624",
   "metadata": {},
   "outputs": [
    {
     "name": "stdout",
     "output_type": "stream",
     "text": [
      "n= 6400일때, 3.060253초 걸렸습니다.\n"
     ]
    }
   ],
   "source": [
    "start_time = timeit.default_timer() # 시작 시간 체크\n",
    " \n",
    "fun2(6400)\n",
    "    \n",
    "terminate_time = timeit.default_timer() # 종료 시간 체크  \n",
    " \n",
    "print(\"n= %d일때, %f초 걸렸습니다.\" % (6400, (terminate_time - start_time)))"
   ]
  },
  {
   "cell_type": "code",
   "execution_count": null,
   "id": "a03955f1",
   "metadata": {},
   "outputs": [],
   "source": []
  }
 ],
 "metadata": {
  "kernelspec": {
   "display_name": "Python 3",
   "language": "python",
   "name": "python3"
  },
  "language_info": {
   "codemirror_mode": {
    "name": "ipython",
    "version": 3
   },
   "file_extension": ".py",
   "mimetype": "text/x-python",
   "name": "python",
   "nbconvert_exporter": "python",
   "pygments_lexer": "ipython3",
   "version": "3.8.8"
  }
 },
 "nbformat": 4,
 "nbformat_minor": 5
}
