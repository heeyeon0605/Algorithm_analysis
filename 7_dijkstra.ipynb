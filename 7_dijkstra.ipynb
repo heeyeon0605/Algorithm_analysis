{
 "cells": [
  {
   "cell_type": "markdown",
   "id": "73625521",
   "metadata": {},
   "source": [
    "# dijkstra 최단 경로 알고리즘"
   ]
  },
  {
   "cell_type": "code",
   "execution_count": 41,
   "id": "86e8e6d4",
   "metadata": {},
   "outputs": [
    {
     "name": "stdout",
     "output_type": "stream",
     "text": [
      "노드별 최단 거리 : [0, 5, 4, 2, 1]\n",
      "f :  {(3, 1), (0, 2), (0, 4), (4, 3)}\n"
     ]
    }
   ],
   "source": [
    "# mine\n",
    "\n",
    "inf = 1000\n",
    "w = [[0, 7, 4, 6, 1], [inf, 0, inf, inf, inf], \n",
    "     [inf, 2, 0, 5, inf], [inf, 3, inf, 0, inf], [inf, inf, inf, 1, 0]]\n",
    "n = 5\n",
    "f = set()\n",
    "touch = n * [0]\n",
    "length = n * [0]\n",
    "min_length = n * [0]\n",
    "\n",
    "def dijkstra(n) : \n",
    "    for i in range(1, n) :\n",
    "        length[i] = w[0][i]\n",
    "        \n",
    "    for i in range(1, n) :\n",
    "        minimum = inf\n",
    "        itemp = 0\n",
    "        \n",
    "        for j in range(1, n) :\n",
    "            if 0 <= length[j] < minimum :\n",
    "                minimum = length[j]\n",
    "                vnear = j\n",
    "                itemp = j\n",
    "        \n",
    "        e = (touch[vnear], vnear)\n",
    "        f. add(e)\n",
    "        \n",
    "        for k in range(1, n) :\n",
    "            if (length[vnear] + w[vnear][k]) < length[k] :\n",
    "                length[k] = length[vnear] + w[vnear][k]\n",
    "                touch[k] = vnear\n",
    "        \n",
    "        min_length[itemp] = minimum\n",
    "        length[vnear] = -1\n",
    "    \n",
    "dijkstra(n) \n",
    "print(\"노드별 최단 거리 :\", min_length)\n",
    "print(\"f : \", f)"
   ]
  },
  {
   "cell_type": "code",
   "execution_count": 24,
   "id": "cce8b8a2",
   "metadata": {},
   "outputs": [
    {
     "name": "stdout",
     "output_type": "stream",
     "text": [
      "{(3, 1), (0, 2), (0, 4), (4, 3)}\n",
      "[0, 5, 4, 2, 1]\n"
     ]
    }
   ],
   "source": [
    "# another 1\n",
    "\n",
    "inf = 1000\n",
    "w = [[0, 7, 4, 6, 1],\n",
    "     [inf, 0, inf, inf, inf],\n",
    "     [inf, 2, 0, 5, inf],\n",
    "     [inf, 3, inf, 0, inf],\n",
    "     [inf, inf, inf, 1, 0]]\n",
    "n = 5\n",
    "f = set()\n",
    "touch = n * [0]\n",
    "length = n * [0]\n",
    "save_length = n * [0]\n",
    "\n",
    "\n",
    "def dijkstra(n):\n",
    "    for i in range(1, n):\n",
    "        length[i] = w[0][i]\n",
    "\n",
    "    for k in range(1, n):\n",
    "        min = inf\n",
    "        index = 0\n",
    "        for i in range(1, n):\n",
    "            if 0 <= length[i] < min:\n",
    "                min = length[i]\n",
    "                vnear = i\n",
    "                index = i\n",
    "\n",
    "        save_length[index] = min\n",
    "\n",
    "        e = (touch[vnear], vnear)\n",
    "        f.add(e)\n",
    "        for i in range(1, n):\n",
    "            if length[vnear] + w[vnear][i] < length[i]:\n",
    "                length[i] = length[vnear] + w[vnear][i]\n",
    "                touch[i] = vnear\n",
    "\n",
    "        length[vnear] = -1\n",
    "\n",
    "\n",
    "dijkstra(n)\n",
    "print(f)\n",
    "print(save_length)"
   ]
  },
  {
   "cell_type": "markdown",
   "id": "98a5d534",
   "metadata": {},
   "source": [
    "# n-queens"
   ]
  },
  {
   "cell_type": "code",
   "execution_count": 8,
   "id": "bdee568f",
   "metadata": {},
   "outputs": [
    {
     "name": "stdout",
     "output_type": "stream",
     "text": [
      "두 번째 해는 [0, 3, 6, 2, 5, 1, 4] 이다.\n",
      "해의 총 개수는 40 이다.\n"
     ]
    }
   ],
   "source": [
    "# mine, n이랑 k 숫자가 미묘하게 다름\n",
    "\n",
    "def promising(i, col) : # i, col\n",
    "    k = 0\n",
    "    switch = True\n",
    "    while (k < i) and (switch == True) :\n",
    "        if (col[i] == col[k]) or (abs(col[i]-col[k]) == i - k) :\n",
    "            switch = False\n",
    "        k += 1\n",
    "    return switch\n",
    "\n",
    "def queens(n, i, col) : # n, i, col\n",
    "    global total\n",
    "    if promising(i, col) == True :\n",
    "        if i == (n - 1) :\n",
    "            total += 1\n",
    "            if total == 2 :\n",
    "                print(\"두 번째 해 :\", col)\n",
    "        else :\n",
    "            for j in range(n) :\n",
    "                col[i + 1] = j\n",
    "                queens(n, (i + 1), col)\n",
    "\n",
    "total = 0\n",
    "n = 7\n",
    "col = n * [0]\n",
    "queens(n, -1, col)\n",
    "print(\"해의 총 개수 :\", total)"
   ]
  },
  {
   "cell_type": "code",
   "execution_count": null,
   "id": "d70dd623",
   "metadata": {},
   "outputs": [],
   "source": [
    "# another 1\n",
    "\n",
    "def promising(i, col):\n",
    "    k = 0\n",
    "    switch = True\n",
    "    while k < i and switch == True:\n",
    "        if col[i] == col[k] or abs(col[i]-col[k]) == i-k: # check if the other queen is in same column or in the same diagonal.\n",
    "            switch = False\n",
    "        k += 1\n",
    "    return switch\n",
    "\n",
    "def queens(n, i, col):\n",
    "    global count # set global variable count.\n",
    "    if promising(i, col) == True:\n",
    "        if i == n-1: # 'n-1' means the last order of column.\n",
    "            count += 1 # when finished positioning queen, count the solution.\n",
    "            if count == 3: # I have to show only third solution, so when the count is 3, print the solution.\n",
    "                print(\"(2)\") # indicates answer of second question.\n",
    "                print(\"The 3rd solution :\", col)\n",
    "        else:\n",
    "            for j in range(0, n):\n",
    "                col[i+1] = j\n",
    "                queens(n, i+1, col)\n",
    "count = 0 # initiates count as 0.\n",
    "n = 7\n",
    "col = n*[0]\n",
    "queens(n, -1, col)\n",
    "print(\"The number of solutions :\", count) # show the solutions of queens problem."
   ]
  },
  {
   "cell_type": "code",
   "execution_count": null,
   "id": "7675d498",
   "metadata": {},
   "outputs": [],
   "source": [
    "# another 2\n",
    "def promising(i, col):\n",
    "    k = 0\n",
    "    switch = True\n",
    "    while k < i and switch:\n",
    "        if col[i] == col[k] or abs(col[i] - col[k]) == i - k:\n",
    "            switch = False\n",
    "        k += 1\n",
    "    return switch\n",
    "\n",
    "\n",
    "def queens(n, i, col):\n",
    "    if promising(i, col):\n",
    "        if i == n - 1:\n",
    "            print([col[j] for j in range(n)])\n",
    "        else:\n",
    "            for j in range(n):\n",
    "                col[i + 1] = j\n",
    "                queens(n, i + 1, col)\n"
   ]
  },
  {
   "cell_type": "code",
   "execution_count": null,
   "id": "98af058d",
   "metadata": {},
   "outputs": [],
   "source": [
    "def queens(sol,n):\n",
    "    global count\n",
    "    if len(sol) == n:\n",
    "        count += 1\n",
    "        if(count==3):\n",
    "            print(sol)\n",
    "        return 0\n",
    "    col =list(range(n))\n",
    "    for i in range(len(sol)):\n",
    "        if (sol[i] in col):\n",
    "            col.remove(sol[i])\n",
    "        d= len(sol) - i\n",
    "        if (sol[i] + d in col):\n",
    "            col.remove(sol[i]+d)\n",
    "        if (sol[i] - d in col):\n",
    "            col.remove(sol[i]-d)\n",
    "\n",
    "    if (col != []):\n",
    "        for i in col:\n",
    "            sol.append(i)\n",
    "            queens(sol,n)\n",
    "            sol.pop()\n",
    "    else:\n",
    "        return 0\n",
    "\n",
    "\n",
    "\n",
    "count =0\n",
    "n=7\n",
    "sol=[]\n",
    "\n",
    "print(\"3rd answer: \",end=\"\")\n",
    "queens(sol,n)\n",
    "print(\"The number of solutions:\",count)"
   ]
  },
  {
   "cell_type": "markdown",
   "id": "98445718",
   "metadata": {},
   "source": [
    "## practice"
   ]
  },
  {
   "cell_type": "code",
   "execution_count": null,
   "id": "48d95ad6",
   "metadata": {},
   "outputs": [],
   "source": []
  },
  {
   "cell_type": "code",
   "execution_count": null,
   "id": "5f8150ee",
   "metadata": {},
   "outputs": [],
   "source": []
  }
 ],
 "metadata": {
  "kernelspec": {
   "display_name": "Python 3",
   "language": "python",
   "name": "python3"
  },
  "language_info": {
   "codemirror_mode": {
    "name": "ipython",
    "version": 3
   },
   "file_extension": ".py",
   "mimetype": "text/x-python",
   "name": "python",
   "nbconvert_exporter": "python",
   "pygments_lexer": "ipython3",
   "version": "3.8.8"
  }
 },
 "nbformat": 4,
 "nbformat_minor": 5
}
