{
 "cells": [
  {
   "cell_type": "markdown",
   "id": "85c42dcb",
   "metadata": {},
   "source": [
    "    (1) 12쪽: [실습프로그램] 빠른정렬 프로그램을 다음의 내용을 포함하도록 python으로 완성하라. 문제의 크기, 즉 데이터의 개수를 n으로 표시한다. n=8,16,24,32,40 이 된다. 각 n에 대해서 다음을 구현한다. 정렬할 데이터를 20 set를 생성한다. 데이터는 0부터 n까지의 random number 정수로 구성되고, 중복이 허락된다. 20개의 데이터 set를 quick sort로 정렬할 때 평균 데이터 비교 횟수 (if (s[i]<pivotItem )를 구하라. 최종적으로 가로축에 n, 세로축에 평균 데이터 비교 횟수를 표시하는 그래프를 생성하여 그 점들을 이어주는 선을 관찰하라.\n",
    "    \n",
    "    (2) 17쪽: [실습프로그램] 쉬트라센 알고리즘을 python으로 완성하라. 여기서 threshold 를 2로 설정한다.\n",
    "    \n",
    "    n = [8, 16, 24, 32, 40]일 때, 각 n[i]의 빠른 정렬에서의 평균 데이터 비교 횟수는 [17.5, 29.06, 33.92, 40.62, 48.62]으로, n과 비례하게 결과가 나오는 것을 볼 수 있었습니다. 실제로 그래프를 생성하여 각 점들을 연결해본 결과, n과 평균 데이터 비교 횟수 선이 y = n과 유사하게 나왔으며, n이 증가함에 따라 비교 횟수 또한 증가함을 알 수 있었습니다. 이는 빠른 정렬의 시간복잡도가 O(n)인 것과 관련이 있습니다."
   ]
  },
  {
   "cell_type": "markdown",
   "id": "f63742c0",
   "metadata": {},
   "source": [
    "# Quick Sorting Algorithm"
   ]
  },
  {
   "cell_type": "code",
   "execution_count": 63,
   "id": "ea3efd2e",
   "metadata": {},
   "outputs": [],
   "source": [
    "def quickSort(s, low, high) :\n",
    "    \n",
    "    if high > low : \n",
    "        result = partition(s, low, high)\n",
    "        quickSort(s, low, result - 1)\n",
    "        quickSort(s, result + 1, high)\n",
    "        \n",
    "def partition(s, low, high) :\n",
    "    global sum\n",
    "    \n",
    "    pivotitem = s[low]\n",
    "    j = low\n",
    "    \n",
    "    for i in range(low + 1, high + 1) :\n",
    "        if s[i] < pivotitem :\n",
    "            j += 1\n",
    "            temp = s[i]\n",
    "            s[i] = s[j]\n",
    "            s[j] = temp\n",
    "            \n",
    "            sum += 1\n",
    "            \n",
    "    pivotpoint = j\n",
    "        \n",
    "    temp1 = s[low]\n",
    "    s[low] = s[pivotpoint]\n",
    "    s[pivotpoint] = temp1\n",
    "    \n",
    "    return j"
   ]
  },
  {
   "cell_type": "code",
   "execution_count": 64,
   "id": "613d9775",
   "metadata": {},
   "outputs": [
    {
     "name": "stdout",
     "output_type": "stream",
     "text": [
      "Case of n = 8\n",
      "after sorting :  [0, 2, 2, 3, 3, 4, 4, 8]\n",
      "\n",
      "Case of n = 16\n",
      "after sorting :  [0, 2, 2, 3, 5, 5, 8, 9, 10, 10, 12, 12, 14, 16, 16, 16]\n",
      "\n",
      "Case of n = 24\n",
      "after sorting :  [0, 2, 4, 4, 5, 6, 7, 8, 10, 11, 11, 11, 11, 11, 12, 13, 14, 14, 17, 17, 20, 20, 20, 24]\n",
      "\n",
      "Case of n = 32\n",
      "after sorting :  [0, 0, 2, 3, 6, 6, 6, 7, 8, 8, 8, 9, 10, 12, 12, 12, 14, 15, 15, 16, 16, 18, 19, 19, 22, 23, 25, 28, 28, 29, 30, 30]\n",
      "\n",
      "Case of n = 40\n",
      "after sorting :  [0, 2, 2, 3, 3, 4, 5, 6, 6, 9, 9, 9, 9, 9, 10, 10, 11, 12, 12, 12, 13, 16, 17, 18, 19, 19, 21, 22, 22, 23, 24, 24, 24, 28, 29, 30, 31, 32, 32, 39]\n",
      "\n"
     ]
    }
   ],
   "source": [
    "import random\n",
    "\n",
    "n = [8, 16, 24, 32, 40]\n",
    "sum = 0\n",
    "\n",
    "for i in range(5) :\n",
    "    \n",
    "    randomlist = []\n",
    "    for j in range(n[i]):\n",
    "        num = random.randint(0, n[i])\n",
    "        randomlist.append(num)\n",
    "\n",
    "    print(\"Case of n =\", n[i])\n",
    "    # print(\"before sorting : \", randomlist)\n",
    "    quickSort(randomlist, 0, (n[i]-1))\n",
    "    print(\"after sorting : \", randomlist)\n",
    "    \n",
    "    print()"
   ]
  },
  {
   "cell_type": "code",
   "execution_count": 65,
   "id": "23a74ff8",
   "metadata": {},
   "outputs": [
    {
     "name": "stdout",
     "output_type": "stream",
     "text": [
      "total average number of comparion in Case of n = 8 : 17.5\n",
      "total average number of comparion in Case of n = 16 : 29.06\n",
      "total average number of comparion in Case of n = 24 : 33.92\n",
      "total average number of comparion in Case of n = 32 : 40.62\n",
      "total average number of comparion in Case of n = 40 : 48.62\n"
     ]
    }
   ],
   "source": [
    "import random\n",
    "\n",
    "n = [8,16,24,32,40]\n",
    "final_list = []\n",
    "\n",
    "for i in range(5) :\n",
    "    total = 0\n",
    "    \n",
    "    for j in range(20) :\n",
    "        sum = 0\n",
    "    \n",
    "        randomlist = []\n",
    "        for j in range(n[i]):\n",
    "            num = random.randint(0, n[i]) # n[0] 대신에 n[i]하고 전체적으로 for문 돌리기\n",
    "            randomlist.append(num)\n",
    "\n",
    "        quickSort(randomlist, 0, (n[i]-1))\n",
    "    \n",
    "        total += sum\n",
    "        \n",
    "    final = (round(total/n[i], 2))\n",
    "        \n",
    "    print (\"total average number of comparion in Case of n =\", n[i], \":\", final)\n",
    "    \n",
    "    final_list.append(round(total/n[i], 2))"
   ]
  },
  {
   "cell_type": "code",
   "execution_count": 67,
   "id": "00162b99",
   "metadata": {},
   "outputs": [
    {
     "data": {
      "text/plain": [
       "[17.5, 29.06, 33.92, 40.62, 48.62]"
      ]
     },
     "execution_count": 67,
     "metadata": {},
     "output_type": "execute_result"
    }
   ],
   "source": [
    "final_list"
   ]
  },
  {
   "cell_type": "code",
   "execution_count": 66,
   "id": "3b790ebe",
   "metadata": {},
   "outputs": [
    {
     "data": {
      "image/png": "[encoded data removed]",
      "text/plain": [
       "<Figure size 432x288 with 1 Axes>"
      ]
     },
     "metadata": {
      "needs_background": "light"
     },
     "output_type": "display_data"
    }
   ],
   "source": [
    "from matplotlib import pyplot as plt\n",
    "\n",
    "plt.plot(n, final_list)\n",
    "\n",
    "plt.xlabel('n')\n",
    "plt.ylabel('average number of comparison')\n",
    "plt.title('QuickSort')\n",
    "plt.show()"
   ]
  },
  {
   "cell_type": "code",
   "execution_count": 51,
   "id": "bd5ffbb5",
   "metadata": {},
   "outputs": [
    {
     "name": "stdout",
     "output_type": "stream",
     "text": [
      "after sorting :  [1, 2, 4, 7, 9, 10, 20, 83]\n"
     ]
    }
   ],
   "source": [
    "practice = [4, 9, 2 ,10, 83, 1, 20, 7]\n",
    "\n",
    "quickSort(practice, 0, 7)\n",
    "\n",
    "print(\"after sorting : \", practice)"
   ]
  },
  {
   "cell_type": "markdown",
   "id": "5652bdb6",
   "metadata": {},
   "source": [
    "# Strassen Algorithm"
   ]
  },
  {
   "cell_type": "code",
   "execution_count": 1,
   "id": "b803817c",
   "metadata": {},
   "outputs": [],
   "source": [
    "from numpy import *"
   ]
  },
  {
   "cell_type": "code",
   "execution_count": 41,
   "id": "3667ab07",
   "metadata": {},
   "outputs": [],
   "source": [
    "def strassen(n, A, B, C) :\n",
    "    \n",
    "    new_range = int(n/2)\n",
    "    \n",
    "    thredshold = 2\n",
    "    A11 = array([[0 for cols in range(new_range)] for rows in range(new_range)])\n",
    "    A12 = array([[0 for cols in range(new_range)] for rows in range(new_range)])\n",
    "    A21 = array([[0 for cols in range(new_range)] for rows in range(new_range)])\n",
    "    A22 = array([[0 for cols in range(new_range)] for rows in range(new_range)])\n",
    "    B11 = array([[0 for cols in range(new_range)] for rows in range(new_range)])\n",
    "    B12 = array([[0 for cols in range(new_range)] for rows in range(new_range)])\n",
    "    B21 = array([[0 for cols in range(new_range)] for rows in range(new_range)])\n",
    "    B22 = array([[0 for cols in range(new_range)] for rows in range(new_range)])\n",
    "    \n",
    "    for i in range(0, new_range):\n",
    "            for j in range(0, new_range):\n",
    "                A11[i][j] = A[i][j] \n",
    "                A12[i][j] = A[i][j + new_range]\n",
    "                A21[i][j] = A[i + new_range][j] \n",
    "                A22[i][j] = A[i + new_range][j + new_range] \n",
    "                B11[i][j] = B[i][j]\n",
    "                B12[i][j] = B[i][j + new_range] \n",
    "                B21[i][j] = B[i + new_range][j] \n",
    "                B22[i][j] = B[i + new_range][j + new_range]  \n",
    "    \n",
    "    # print(A11, A12, A22, B11, B12, B21, B22)\n",
    "    \n",
    "    if (n <= thredshold) :\n",
    "        C = array(A) @ array(B)\n",
    "    else :\n",
    "        M1 = M2 = M3 = M4 = M5 = M6 = M7 = array([])\n",
    "        M1 = strassen(int(n/2), (A11 + A22), (B11 + B22), M1)\n",
    "        M2 = strassen(int(n/2), (A21 + A22), B11, M2)\n",
    "        M3 = strassen(int(n/2), A11, (B12 - B22), M3)\n",
    "        M4 = strassen(int(n/2), A22, (B21 - B11), M4)\n",
    "        M5 = strassen(int(n/2), (A11 + A12), B22, M5)\n",
    "        M6 = strassen(int(n/2), (A21 - A11), (B11 + B12), M6)\n",
    "        M7 = strassen(int(n/2), (A12 - A22), (B21 + B22), M7)\n",
    "    \n",
    "        C = vstack([hstack([M1 + M4 - M5 + M7, M3 + M5]), hstack([M2 + M4, M1 + M3 - M2 + M6])])\n",
    "\n",
    "    return C"
   ]
  },
  {
   "cell_type": "code",
   "execution_count": 42,
   "id": "730d33ce",
   "metadata": {},
   "outputs": [
    {
     "name": "stdout",
     "output_type": "stream",
     "text": [
      "[[ 2 15 12  2]\n",
      " [ 1 10  4  6]\n",
      " [ 2 12  8  2]\n",
      " [ 2  8  0  8]]\n",
      "[[ 2 15 12  2]\n",
      " [ 1 10  4  6]\n",
      " [ 2 12  8  2]\n",
      " [ 2  8  0  8]]\n"
     ]
    }
   ],
   "source": [
    "n = 4\n",
    "\n",
    "# A = [[1 for cols in range(n)] for rows in range(n)]\n",
    "# A = [[2 for cols in range(n)] for rows in range(n)]\n",
    "A = [[1,2,0,2], [3,1,0,0], [0,1,1,2], [2,0,2,0]]\n",
    "B = [[0,3,0,2], [1,1,4,0], [1,1,0,2], [0,5,2,0]]\n",
    "C = array(A) @ array(B)\n",
    "\n",
    "D = [[0 for cols in range(n)] for rows in range(n)]\n",
    "print(C)\n",
    "\n",
    "D = strassen(n, A, B, D)\n",
    "print(D)"
   ]
  },
  {
   "cell_type": "markdown",
   "id": "8a78aa04",
   "metadata": {},
   "source": [
    "# practice"
   ]
  },
  {
   "cell_type": "code",
   "execution_count": 87,
   "id": "c5086fa3",
   "metadata": {},
   "outputs": [
    {
     "data": {
      "text/plain": [
       "1.3333333333333333"
      ]
     },
     "execution_count": 87,
     "metadata": {},
     "output_type": "execute_result"
    }
   ],
   "source": [
    "4/3"
   ]
  },
  {
   "cell_type": "code",
   "execution_count": 131,
   "id": "1e450e96",
   "metadata": {},
   "outputs": [],
   "source": [
    "def quickSort(s, low, high):\n",
    "    \n",
    "    pivotpoint = low\n",
    "\n",
    "    if high > low :\n",
    "        partition(s, low, high, pivotpoint)\n",
    "        quickSort(s, low, pivotpoint - 1)\n",
    "        quickSort(s, pivotpoint + 1, high)\n",
    "\n",
    "def partition(s, low, high, pivotpoint):\n",
    "    \n",
    "    pivotitem = s[low]\n",
    "    j = low\n",
    "\n",
    "    for i in range(low + 1, high + 1):\n",
    "        if s[i] < pivotitem:\n",
    "            j += 1\n",
    "            temp = s[i]\n",
    "            s[i] = s[j]\n",
    "            s[j] = temp\n",
    "\n",
    "    pivotpoint = j\n",
    "    temp = s[low] \n",
    "    s[low] = s[pivotpoint]\n",
    "    s[pivotpoint] = temp"
   ]
  },
  {
   "cell_type": "code",
   "execution_count": 201,
   "id": "ea43933e",
   "metadata": {},
   "outputs": [
    {
     "name": "stdout",
     "output_type": "stream",
     "text": [
      "Case of n = 8\n",
      "before sorting :  [3, 5, 8, 6, 6, 7, 2, 8, 7, 4, 0, 6, 3, 6, 2, 1, 2, 8, 7, 1]\n",
      "after sorting :  [1, 1, 0, 2, 2, 2, 3, 5, 6, 3, 4, 6, 6, 6, 7, 7, 7, 8, 8, 8]\n",
      "\n",
      "Case of n = 16\n",
      "before sorting :  [12, 14, 4, 9, 12, 1, 15, 1, 10, 1, 2, 9, 12, 13, 12, 14, 4, 7, 5, 10]\n",
      "after sorting :  [10, 2, 1, 1, 1, 4, 5, 4, 7, 9, 9, 10, 12, 12, 12, 12, 13, 14, 14, 15]\n",
      "\n",
      "Case of n = 24\n",
      "before sorting :  [12, 15, 23, 12, 22, 18, 1, 3, 23, 18, 10, 9, 20, 12, 24, 17, 13, 16, 24, 17]\n",
      "after sorting :  [9, 1, 3, 10, 12, 17, 13, 12, 12, 15, 16, 17, 18, 20, 18, 22, 23, 23, 24, 24]\n",
      "\n",
      "Case of n = 32\n",
      "before sorting :  [30, 15, 3, 27, 0, 30, 6, 20, 27, 18, 24, 25, 11, 20, 25, 21, 12, 10, 19, 8]\n",
      "after sorting :  [8, 10, 0, 3, 6, 11, 12, 15, 18, 19, 20, 20, 21, 24, 25, 25, 27, 27, 30, 30]\n",
      "\n",
      "Case of n = 40\n",
      "before sorting :  [5, 30, 28, 29, 12, 20, 29, 17, 22, 12, 5, 25, 4, 15, 8, 0, 5, 16, 9, 3]\n",
      "after sorting :  [3, 0, 4, 5, 9, 5, 5, 8, 12, 12, 16, 15, 17, 20, 22, 25, 28, 29, 29, 30]\n",
      "\n"
     ]
    }
   ],
   "source": [
    "import random\n",
    "\n",
    "n = [8, 16, 24, 32, 40]\n",
    "\n",
    "for i in range(5) :\n",
    "    sum = 0\n",
    "    \n",
    "    randomlist = []\n",
    "    for j in range(20):\n",
    "        num = random.randint(0, n[i]) # n[0] 대신에 n[i]하고 전체적으로 for문 돌리기\n",
    "        randomlist.append(num)\n",
    "\n",
    "    print(\"Case of n =\", n[i])\n",
    "    print(\"before sorting : \", randomlist)\n",
    "    quickSort(randomlist, 0, 19)\n",
    "    print(\"after sorting : \", randomlist)\n",
    "    \n",
    "    print()"
   ]
  },
  {
   "cell_type": "code",
   "execution_count": 9,
   "id": "47d2727b",
   "metadata": {},
   "outputs": [
    {
     "name": "stdout",
     "output_type": "stream",
     "text": [
      "-----quickSort-----\n",
      "[2, 3, 4, 5, 8, 9, 10, 14]\n"
     ]
    }
   ],
   "source": [
    "def quickSort(s,low,high):\n",
    "    pivotpoint=low\n",
    "    if (high>low):\n",
    "        partition(s,low,high)\n",
    "        quickSort(s,low,pivotpoint-1)\n",
    "        quickSort(s,pivotpoint+1,high)\n",
    "        \n",
    "def partition(s,low,high):\n",
    "    pivotitem=s[low]\n",
    "    i=low+1\n",
    "    j=low\n",
    "    while(i<=high):\n",
    "        if (s[i]<pivotitem):\n",
    "            j=j+1\n",
    "            temp=s[i]\n",
    "            s[i]=s[j]\n",
    "            s[j]=temp\n",
    "\n",
    "        i=i+1\n",
    "    pivotpoint=j\n",
    "    temp2=s[low]\n",
    "    s[low]=s[pivotpoint]\n",
    "    s[pivotpoint]=temp2\n",
    "    return s\n",
    "\n",
    "print(\"-----quickSort-----\")\n",
    "s=[3,5,2,9,10,14,4,8]\n",
    "quickSort(s,0,7)\n",
    "print(s)"
   ]
  },
  {
   "cell_type": "code",
   "execution_count": 12,
   "id": "59195c29",
   "metadata": {},
   "outputs": [
    {
     "name": "stdout",
     "output_type": "stream",
     "text": [
      "Case of n = 8\n",
      "after sorting :  [0, 0, 1, 2, 3, 6, 7, 7]\n",
      "\n",
      "Case of n = 16\n",
      "after sorting :  [1, 2, 2, 2, 3, 8, 8, 9, 13, 14, 14, 14, 15, 16, 16, 16]\n",
      "\n",
      "Case of n = 24\n",
      "after sorting :  [0, 0, 1, 2, 2, 3, 3, 4, 4, 4, 5, 5, 9, 9, 9, 12, 13, 15, 17, 18, 20, 21, 22, 24]\n",
      "\n",
      "Case of n = 32\n",
      "after sorting :  [0, 0, 2, 3, 4, 4, 5, 6, 8, 10, 11, 11, 11, 13, 13, 14, 14, 15, 16, 17, 18, 19, 19, 20, 21, 21, 23, 24, 25, 25, 27, 28]\n",
      "\n",
      "Case of n = 40\n",
      "after sorting :  [0, 0, 1, 2, 3, 4, 4, 5, 7, 7, 7, 9, 10, 10, 12, 13, 14, 15, 16, 16, 17, 17, 20, 21, 22, 28, 29, 29, 30, 31, 32, 32, 34, 35, 36, 36, 37, 37, 40, 40]\n",
      "\n"
     ]
    }
   ],
   "source": [
    "import random\n",
    "\n",
    "n = [8, 16, 24, 32, 40]\n",
    "\n",
    "for i in range(5) :\n",
    "    \n",
    "    randomlist = []\n",
    "    for j in range(n[i]):\n",
    "        num = random.randint(0, n[i])\n",
    "        randomlist.append(num)\n",
    "\n",
    "    print(\"Case of n =\", n[i])\n",
    "    # print(\"before sorting : \", randomlist)\n",
    "    quickSort(randomlist, 0, (n[i]-1))\n",
    "    print(\"after sorting : \", randomlist)\n",
    "    \n",
    "    print()"
   ]
  },
  {
   "cell_type": "code",
   "execution_count": 40,
   "id": "2e19d09b",
   "metadata": {},
   "outputs": [
    {
     "name": "stdout",
     "output_type": "stream",
     "text": [
      "[[1 2]\n",
      " [3 1]]\n"
     ]
    }
   ],
   "source": [
    "A = [[1,2,0,2], [3,1,0,0], [0,1,1,2], [2,0,2,0]]\n",
    "A11 = array([[A[rows][cols] for cols in range(int(4/2))] for rows in range(int(4/2))])\n",
    "\n",
    "print(A11)"
   ]
  },
  {
   "cell_type": "code",
   "execution_count": 33,
   "id": "184f4a19",
   "metadata": {},
   "outputs": [
    {
     "name": "stdout",
     "output_type": "stream",
     "text": [
      "[[0 0]\n",
      " [0 0]]\n"
     ]
    }
   ],
   "source": [
    "n = 4\n",
    "A = [[1,2,0,2], [3,1,0,0], [0,1,1,2], [2,0,2,0]]\n",
    "new_range = int(n/2)\n",
    "A11 = array([[0 for cols in range(new_range)] for rows in range(new_range)])\n",
    "\n",
    "print(A11)"
   ]
  },
  {
   "cell_type": "code",
   "execution_count": null,
   "id": "d7b045f9",
   "metadata": {},
   "outputs": [],
   "source": []
  }
 ],
 "metadata": {
  "kernelspec": {
   "display_name": "Python 3",
   "language": "python",
   "name": "python3"
  },
  "language_info": {
   "codemirror_mode": {
    "name": "ipython",
    "version": 3
   },
   "file_extension": ".py",
   "mimetype": "text/x-python",
   "name": "python",
   "nbconvert_exporter": "python",
   "pygments_lexer": "ipython3",
   "version": "3.8.8"
  }
 },
 "nbformat": 4,
 "nbformat_minor": 5
}
