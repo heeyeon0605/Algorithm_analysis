{
 "cells": [
  {
   "cell_type": "markdown",
   "id": "9c5cab35",
   "metadata": {},
   "source": [
    "# version 1"
   ]
  },
  {
   "cell_type": "code",
   "execution_count": 9,
   "id": "46becbd7",
   "metadata": {},
   "outputs": [],
   "source": [
    "# version 1 mergesort\n",
    "\n",
    "def mergesort (n, S, size) :\n",
    "    global maximum\n",
    "    \n",
    "    h = n // 2 \n",
    "    m = n - h\n",
    "    \n",
    "    if (n > 1) :\n",
    "        U = S[:h]\n",
    "        V = S[h:n]\n",
    "        \n",
    "        size += len(U) + len(V)\n",
    "        \n",
    "        mergesort(h,U,size)\n",
    "        mergesort(m,V,size)\n",
    "        merge(h,m,U,V,S)\n",
    "        \n",
    "    if (n <= 1) :\n",
    "        maximum = size\n",
    "\n",
    "# version 1 merge\n",
    "\n",
    "def merge(h, m, U, V, S) :\n",
    "    i = 0\n",
    "    j = 0\n",
    "    k = 0\n",
    "    \n",
    "    while (i < h and j < m) :\n",
    "        if U[i] < V[j] :\n",
    "            S[k] = U[i]\n",
    "            i += 1\n",
    "        else :\n",
    "            S[k] = V[j]\n",
    "            j += 1\n",
    "        k += 1\n",
    "        \n",
    "    if i >= h :\n",
    "        S[k:h+m] = V[j:m]\n",
    "    else :\n",
    "        S[k:h+m] = U[i:h]"
   ]
  },
  {
   "cell_type": "code",
   "execution_count": 10,
   "id": "1b674749",
   "metadata": {},
   "outputs": [
    {
     "name": "stdout",
     "output_type": "stream",
     "text": [
      "[1, 2, 3, 4, 5, 6, 7, 8, 9, 10, 11, 12, 13, 14, 15, 16]\n",
      "size: 30\n"
     ]
    }
   ],
   "source": [
    "size = 0 # size 변수는 왜 동기화가 안되고 S 배열은 왜 반환을 안해도 값이 바뀌는지\n",
    "maximum = 0\n",
    "\n",
    "S = [11,5,2,16,12,1,8,15,6,14,9,3,10,7,13,4]\n",
    "mergesort(16, S, size)\n",
    "print(S)\n",
    "print(\"size of mergesort1:\", maximum) # n = 16, size = 30, size equals to almost 2n"
   ]
  },
  {
   "cell_type": "markdown",
   "id": "44c863da",
   "metadata": {},
   "source": [
    "# version 2"
   ]
  },
  {
   "cell_type": "code",
   "execution_count": 11,
   "id": "44d92702",
   "metadata": {},
   "outputs": [],
   "source": [
    "# version 2 mergesort\n",
    "\n",
    "def mergesort2(s, low, high) :\n",
    "    \n",
    "    if low < high :\n",
    "        mid = (low + high) // 2\n",
    "        mergesort2(s, low, mid)\n",
    "        mergesort2(s, mid+1, high)\n",
    "        merge2(s, low, mid, high)"
   ]
  },
  {
   "cell_type": "code",
   "execution_count": 12,
   "id": "b271779b",
   "metadata": {},
   "outputs": [
    {
     "name": "stdout",
     "output_type": "stream",
     "text": [
      "mergesort2 : 16\n",
      "[3, 16, 13, 1, 9, 2, 7, 5, 8, 4, 11, 6, 15, 14, 10, 12]\n"
     ]
    }
   ],
   "source": [
    "# version 2 merge\n",
    "\n",
    "def merge2(s, low, mid, high) :\n",
    "    global maximum2\n",
    "    temp = [1 for i in range(high - low + 1)]\n",
    "    \n",
    "    size2 = len(temp)\n",
    "    maximum2 = size2\n",
    "    \n",
    "    i = low\n",
    "    j = mid + 1\n",
    "    k = 0\n",
    "    \n",
    "    while (i <= mid and j <= high) :\n",
    "        if S[i] < S[j] :\n",
    "            temp[k] = S[i]\n",
    "            i += 1\n",
    "        else :\n",
    "            temp[k] = S[j]\n",
    "            j += 1\n",
    "        k += 1\n",
    "    \n",
    "    if i > mid :\n",
    "        temp[k:high - low + 1] = S[j:high + 1]\n",
    "    else :\n",
    "        temp[k:high - low + 1] = S[i:mid + 1]\n",
    "    S[low:high + 1] = temp[0:high - low + 1]\n",
    "    \n",
    "s= [3,16,13,1,9,2,7,5,8,4,11,6,15,14,10,12]\n",
    "mergesort2(s,0,15) # =(s, low, high)\n",
    "print(\"mergesort2 :\", size1)\n",
    "print(s)"
   ]
  },
  {
   "cell_type": "code",
   "execution_count": 17,
   "id": "66ac868d",
   "metadata": {},
   "outputs": [
    {
     "name": "stdout",
     "output_type": "stream",
     "text": [
      "size of mergesort2 : 16\n",
      "[1, 2, 3, 4, 5, 6, 7, 8, 9, 10, 11, 12, 13, 14, 15, 16]\n"
     ]
    }
   ],
   "source": [
    "def merge2(S,low,mid,high):\n",
    "    global maximum2\n",
    "    temp=[1 for i in range(high - low + 1)]\n",
    "    \n",
    "    i=low\n",
    "    j=mid + 1\n",
    "    k=0\n",
    "    \n",
    "    size2 = len(temp)\n",
    "    maximum2 = size2\n",
    "    \n",
    "    while i <= mid and j <= high: \n",
    "        if S[i] < S[j]: \n",
    "            temp[k] = S[i] \n",
    "            i += 1\n",
    "        else:\n",
    "            temp[k] = S[j]\n",
    "            j += 1\n",
    "        k += 1\n",
    "    \n",
    "    if i > mid:\n",
    "        temp[k:high - low + 1] = S[j:high + 1] \n",
    "    else:\n",
    "        temp[k:high - low + 1] = S[i:mid + 1]\n",
    "    S[low:high + 1] = temp[0:high - low + 1] \n",
    "\n",
    "    \n",
    "maximum2 = 0\n",
    "\n",
    "s= [3,16,13,1,9,2,7,5,8,4,11,6,15,14,10,12]\n",
    "mergesort2(s,0,15)\n",
    "print(\"size of mergesort2 :\", maximum2)\n",
    "print(s)"
   ]
  },
  {
   "cell_type": "code",
   "execution_count": 13,
   "id": "4da8b202",
   "metadata": {},
   "outputs": [
    {
     "name": "stdout",
     "output_type": "stream",
     "text": [
      "mergesort2 : 16\n",
      "[1, 2, 3, 4, 5, 6, 7, 8, 9, 10, 11, 12, 13, 14, 15, 16]\n"
     ]
    }
   ],
   "source": [
    "def merge2(S,low,mid,high):\n",
    "    global size1\n",
    "    i=low\n",
    "    j=mid+1\n",
    "    k=0\n",
    "    U=[0 for i in range(high-low+1)] # high-low+1 means the size of list\n",
    "    size1 = max(size1, len(U)) # find the max size of U and it is the added space.\n",
    "    while i<=mid and j<=high: # it means i is in the left side, and j is in the right side.\n",
    "        if S[i] < S[j]: # compare the items in list S.\n",
    "            U[k] = S[i] # Then, the smaller one is added to temporal list 'U'.\n",
    "            i+=1\n",
    "        else:\n",
    "            U[k] = S[j]\n",
    "            j+=1\n",
    "        k+=1\n",
    "    \n",
    "    if i>mid:\n",
    "        U[k:high-low+1]=S[j:high+1] # When one list completed adding to U list, the other list is added in this process.\n",
    "    else:\n",
    "        U[k:high-low+1]=S[i:mid+1]\n",
    "    S[low:high+1] = U[0:high-low+1] # Finally, after completed adding all items to list U, copy the list U to list S.\n",
    "\n",
    "    \n",
    "size1=0\n",
    "s= [3,16,13,1,9,2,7,5,8,4,11,6,15,14,10,12]\n",
    "mergesort2(s,0,15) # =(s, low, high)\n",
    "print(\"mergesort2 :\", size1)\n",
    "print(s)"
   ]
  },
  {
   "cell_type": "code",
   "execution_count": 14,
   "id": "96994ba0",
   "metadata": {},
   "outputs": [
    {
     "name": "stdout",
     "output_type": "stream",
     "text": [
      "[1, 2, 3, 4, 5, 6, 7, 8, 9, 10, 11, 12, 13, 14, 15, 16]\n",
      "size: 0\n"
     ]
    }
   ],
   "source": [
    "maximum2 = 0\n",
    "\n",
    "S2 = [11,5,2,16,12,1,8,15,6,14,9,3,10,7,13,4]\n",
    "mergesort2(S2, 0, 15)\n",
    "print(S2)\n",
    "print(\"size:\", maximum2) # n = 16, size = 16, size equals to n"
   ]
  },
  {
   "cell_type": "markdown",
   "id": "b52be5a7",
   "metadata": {},
   "source": [
    "## practice"
   ]
  },
  {
   "cell_type": "code",
   "execution_count": 14,
   "id": "fc95d55d",
   "metadata": {},
   "outputs": [
    {
     "name": "stdout",
     "output_type": "stream",
     "text": [
      "[11, 5, 2, 16, 12, 1, 8, 15, 6, 14, 9, 3, 10, 7, 13, 4]\n"
     ]
    }
   ],
   "source": [
    "S2 = [11,5,2,16,12,1,8,15,6,14,9,3,10,7,13,4]\n",
    "mergesort2(S2, 0, 15)\n",
    "print(S2)"
   ]
  },
  {
   "cell_type": "code",
   "execution_count": 7,
   "id": "715f6793",
   "metadata": {},
   "outputs": [
    {
     "name": "stdout",
     "output_type": "stream",
     "text": [
      "1\n",
      "1.5\n"
     ]
    }
   ],
   "source": [
    "print(3//2)\n",
    "\n",
    "print(3/2)"
   ]
  },
  {
   "cell_type": "code",
   "execution_count": 74,
   "id": "4fdc4c1f",
   "metadata": {},
   "outputs": [
    {
     "name": "stdout",
     "output_type": "stream",
     "text": [
      "[0, 0, 0, 0, 0, 0]\n"
     ]
    },
    {
     "data": {
      "text/plain": [
       "int"
      ]
     },
     "execution_count": 74,
     "metadata": {},
     "output_type": "execute_result"
    }
   ],
   "source": [
    "U=[0 for i in range(5-0+1)]\n",
    "\n",
    "print(U)\n",
    "\n",
    "type(U[1])"
   ]
  },
  {
   "cell_type": "code",
   "execution_count": 73,
   "id": "f9801ba8",
   "metadata": {},
   "outputs": [
    {
     "name": "stdout",
     "output_type": "stream",
     "text": [
      "[0, 0, 0, 0, 0, 0]\n"
     ]
    },
    {
     "data": {
      "text/plain": [
       "int"
      ]
     },
     "execution_count": 73,
     "metadata": {},
     "output_type": "execute_result"
    }
   ],
   "source": [
    "U = []\n",
    "for i in range(5 - 0 + 1) :\n",
    "    U.append(0)\n",
    "\n",
    "print(U)\n",
    "\n",
    "type(U[1])"
   ]
  }
 ],
 "metadata": {
  "kernelspec": {
   "display_name": "Python 3",
   "language": "python",
   "name": "python3"
  },
  "language_info": {
   "codemirror_mode": {
    "name": "ipython",
    "version": 3
   },
   "file_extension": ".py",
   "mimetype": "text/x-python",
   "name": "python",
   "nbconvert_exporter": "python",
   "pygments_lexer": "ipython3",
   "version": "3.8.8"
  }
 },
 "nbformat": 4,
 "nbformat_minor": 5
}
